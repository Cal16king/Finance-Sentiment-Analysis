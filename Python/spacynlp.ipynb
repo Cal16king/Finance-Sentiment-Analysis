{
 "cells": [
  {
   "cell_type": "markdown",
   "id": "9b771bbd-983d-4216-bafd-abaf7c645d82",
   "metadata": {},
   "source": [
    "I want to look at Family Guy music"
   ]
  },
  {
   "cell_type": "code",
   "execution_count": 1,
   "id": "18a1b0f5-5b4b-43d4-8d60-1f5f4f89f999",
   "metadata": {},
   "outputs": [
    {
     "name": "stderr",
     "output_type": "stream",
     "text": [
      "/usr/local/lib/python3.11/site-packages/thinc/compat.py:36: UserWarning: 'has_mps' is deprecated, please use 'torch.backends.mps.is_built()'\n",
      "  hasattr(torch, \"has_mps\")\n",
      "/usr/local/lib/python3.11/site-packages/thinc/compat.py:37: UserWarning: 'has_mps' is deprecated, please use 'torch.backends.mps.is_built()'\n",
      "  and torch.has_mps  # type: ignore[attr-defined]\n"
     ]
    }
   ],
   "source": [
    "import spacy\n",
    "import os\n",
    "from collections import Counter\n",
    "\n",
    "import numpy as np\n",
    "import matplotlib.pyplot as plt   \n",
    "import seaborn as sns\n"
   ]
  },
  {
   "cell_type": "code",
   "execution_count": 2,
   "id": "3477f379-4fc2-4d90-896e-b1fc67364e43",
   "metadata": {
    "scrolled": true
   },
   "outputs": [],
   "source": [
    "#nlp = spacy.cli.download(\"en_core_web_lg\")\n",
    "nlp = spacy.load('en_core_web_lg')"
   ]
  },
  {
   "cell_type": "code",
   "execution_count": 3,
   "id": "056dbb8d-2ac5-4be5-a837-737bd5fea4a2",
   "metadata": {
    "scrolled": true
   },
   "outputs": [
    {
     "name": "stdout",
     "output_type": "stream",
     "text": [
      "current working directory: /Users/eeb4/Documents/GitHub/newtfire/digit210-projects/ORIG-Finance-Sentiment-Analysis/Python\n"
     ]
    }
   ],
   "source": [
    "workingDir = os.getcwd()\n",
    "print(\"current working directory: \" + workingDir)"
   ]
  },
  {
   "cell_type": "code",
   "execution_count": 4,
   "id": "94a9432a-b696-46dd-b124-ae222e164210",
   "metadata": {},
   "outputs": [
    {
     "name": "stdout",
     "output_type": "stream",
     "text": [
      "inside this directory are the following files AND directories: ['textCorpus.xsl', 'web_scraper.py', 'digit-210-firebase-adminsdk-s0o5k-a0a46f9545.json', '.DS_Store', 'spacynlp.ipynb', 'results.xml', 'Untitled.ipynb', 'jsonToXML.py', 'results.json', 'results-to-fb.py', 'nlpxq.ipynb', 'get-articles.js', '.ipynb_checkpoints', 'textCorpus', 'wordQuery.xquery', 'website.html', 'data_scripts.py']\n"
     ]
    }
   ],
   "source": [
    "insideDir = os.listdir(workingDir)\n",
    "print(\"inside this directory are the following files AND directories: \" + str(insideDir))"
   ]
  },
  {
   "cell_type": "code",
   "execution_count": 5,
   "id": "64e30077-9f81-4248-96f8-7dde250fefc2",
   "metadata": {},
   "outputs": [
    {
     "name": "stdout",
     "output_type": "stream",
     "text": [
      "/Users/eeb4/Documents/GitHub/newtfire/digit210-projects/ORIG-Finance-Sentiment-Analysis/Python/textCorpus\n"
     ]
    }
   ],
   "source": [
    "CollPath = os.path.join(workingDir, 'textCorpus')\n",
    "print(CollPath)"
   ]
  },
  {
   "cell_type": "code",
   "execution_count": 6,
   "id": "7f54e087-75ef-4f45-b6fb-8c392c84f4f2",
   "metadata": {
    "scrolled": true
   },
   "outputs": [
    {
     "name": "stdout",
     "output_type": "stream",
     "text": [
      "['hum', 'hang', 'sell', 'have', 'decide', 'keep', 'go', 'make', 'start', 'climb', 'have', 'say', 'change', 'go', 'have', 'remain', 'expect', 'have', 'deal', 'prove', 'expect', 'hover', 'compare', 'cement', 'come', 'ease', 'leave', 'come', 'remain', 'do', 'say', 'come', 'heat', 'provide', 'include', 'have', '\"if', 'be', 'start', 'cut', 'lead', 'say', 'hold', 'tell', 'differ', 'associate', 'strangle', 'tip', 'be', 'cut', 'expect', 'accelerate', 'annualize', 'mark', 'report', 'link', 'fault', 'keep', 'lead', 'trigger', 'induce', 'occur', 'be', 'make', 'think', 'move', 'think', 'do', 'say', 'point', 'try', 'bring', 'use', 'fail', 'coincide', 'doubt', 'have', 'do', 'make', 'remain', 'operate', 'decelerate', 'say', 'affect', 'undermine', 'lead', 'destabilize', 'say', 'think', 'set', 'add', 'think', 'try', 'get', 'keep', 'say', 'translate', 'take', 'pencil', 'imply', 'indicate', 'advocate', 'think', 'withstand', 'expect', 'gain', 'opine', 'say', 'leave', 'cut', 'go', 'prevail', 'go', 'average', 'give', 'extend', 'change', 'explode', 'hit', 'rise', 'run', 'surpass', 'allow', 'juice', 'make', 'change', 'hold', 'say', 'notice', 'run', 'say', 'run', 'keep', 'begin', 'take', 'remain', 'climb', 'accord', 'say', 'result', 'have', 'concede', 'think', 'cut', 'go', 'have', 'happen', 'crush', 'earn', 'say', 'lay', 'accord', 'send', 'prepare', 'look', 'increase', 'say', 'obtain', 'do', 'make', 'reduce', 'say', 'report', 'have', 'take', 'fall', 'gain', 'slow', 'face', 'end', 'dethrone', 'say', 'sell', 'recognize', 'house', 'be', 'think', 'go', 'follow', 'think', 'say', 'skip', 'owe', 'report', 'disrupt', 'fall', 'offer', 'trim', 'market', 'bulk', 'add', 'make', 'vehicle', 'drive', 'require', 'steer', 'operate', 'come', 'remain', 'warn', 'brace', 'log', 'say', 'exacerbate', 'cause', 'force', 'suspend', 'suspect', 'schedule', 'report', 'transcribe', 'grow', 'scale', 'prepare', 'look', 'increase', 'do', 'make', 'reduce', 'be', 'hate', 'do', 'enable', 'like', 'thank', 'depart', 'wish', 'say', 'remain', 'like', 'thank', 'remain', 'develop', 'prepare', 'make', 'get', 'expand', 'indicate', 'continue', 'report', 'add', 'revise', 'report', 'stay', 'increase', 'show', 'go', 'switch', 'see', 'record', 'say', 'cool', 'show', 'heat', 'base', 'lead', 'show', 'include', 'see', 'relate', 'account', 'provide', 'base', 'track', 'come', 'employ', 'add', 'see', 'add', 'serve', 'set', 'release', 'diverge', 'report', 'revise', 'survey', 'expect', 'show', 'ease', 'allow', 'ease', 'expect', 'start', 'cut', 'say', 'see', 'begin', 'rebound', 'follow', 'cheer', 'expect', 'report', 'look', 'gain', 'climb', 'advance', 'head', 'jump', 'follow', 'show', 'total', 'expect', 'increase', 'accord', 'rise', 'tear', 'want', 'support', 'want', 'give', 'begin', 'cut', 'underlie', 'release', 'continue', 'affirm', 'say', 'run', 'have', 'be', 'go', 'continue', 'add', 'accelerate', 'tumble', 'mark', 'question', 'come', 'plague', 'lead', 'pace', 'slide', 'say', 'see', 'come', 'point', 'speak', 'focus', 'say', 'continue', 'make', 'move', 'remain', 'show', 'return', 'say', 'echo', 'indicate', 'stay', 'get', 'target', 'keep', 'begin', 'give', 'indicate', 'take', 'expect', 'achieve', 'say', 'say', 'think', 'handle', 'face', 'add', 'show', 'maintain', 'need', 'follow', 'expect', 'release', 'show', 'run', 'drift', 'rise', 'speak', 'top', 'rise', 'waver', 'turn', 'recover', 'note', 'show', 'change', 'say', 'need', 'move', 'ease', 'say', 'give', 'indicate', 'take', 'expect', 'achieve', 'have', 'reset', 'price', 'start', 'progress', 'shift', 'assume', 'start', 'indicate', 'see', 'stress', 'commit', 'set', 'follow', 'expect', 'misstate', 'delay', 'shift', 'offer', 'say', 'continue', 'invest', 'postpone', 'allow', 'mature', 'push', 'expect', 'remain', 'say', 'delay', 'cancel', 'plan', 'shift', 'build', 'sell', 'scale', 'use', 'bring', 'market', 'say', 'suppose', 'retool', 'produce', 'power', 'manufacture', 'allow', 'develop', 'enable', 'take', 'emerge', 'provide', 'increase', 'say', 'say', 'continue', 'focus', 'transition', 'produce', 'power', 'enable', 'improve', 'say', 'say', 'announce', 'begin', 'codename', 'say', 'continue', 'increase', 'subdue', 'rise', 'lose', 'include', 'say', 'expect', 'lose', 'surge', 'say', 'plan', 'begin', 'come', 'report', 'fall', 'expect', 'start', 'report', 'adjust', 'fall', 'expect', 'fall', 'say', 'address', 'revitalize', 'prompt', 'upgrade', 'buy', 'maintain', 'express', 'demonstrate', 'prepare', 'launch', 'license', 'appear', 'suggest', 'skew', 'write', 'reiterate', 'lower', 'say', 'remain', 'make', 'write', 'see', 'bring', 'contribute', 'fall', 'kick', 'weigh', 'slide', 'dip', 'pull', 'decline', 'post', 'say', 'make', 'expect', 'warn', 'weigh', 'slip', 'report', 'drop', 'post', 'continue', 'prepare', 'couple', 'add', 'put', 'mean', 'tell', 'come', 'accord', 'run', 'tick', 'reflect', 'have', 'come', 'say', 'lose', 'say', 'have', 'rely', 'say', 'tank', 'come', 'expect', 'push', 'anticipate', 'dampen', 'follow', 'reflect', 'move', 'drop', 'slide', 'fall', 'lead', 'tread', 'follow', 'rally', 'rise', 'accord', 'poll', 'exclude', 'accelerate', 'rise', 'compare', 'increase', 'suggest', 'lower', 'accord', 'bet', 'take', 'soar', 'reaccelerate', 'defy', 'hope', 'slow', 'spike', 'include', 'slip', 'start', 'suffocate', 'pull', 'drop', 'continue', 'see', 'expect', 'become', 'advocate', 'say', 'manage', 'shake', 'fuel', 'accord', 'manage', 'think', 'think', 'have', 'take', 'say', 'jump', 'edge', 'remain', 'suggest', 'seem', 'say', 'rise', 'report', 'measure', 'change', 'measure', 'remain', 'flatline', 'stall', 'say', 'say', 'moderate', 'account', 'grow', 'say', 'stall', 'suggest', 'renew', 'take', 'expect', 'bring', 'say', 'underlie', 'strip', 'say', 'hold', 'moderate', 'say', 'take', 'get', 'be', 'rise', 'account', 'increase', 'decline', 'erode', 'reverse', 'speak', 'say', 'remain', 'help', 'unwind', 'do', 'increase', 'say', 'adjust', 'account', 'accord', 'publish', 'firm', 'mean', 'control', 'produce', 'mean', 'say', 'play', 'say', 'filter', 'factor', 'say', 'worry', 'continue', 'impact', 'say', 'do', 'rise', 'say', 'say', 'strip', 'say', 'expect', 'bring', 'say', 'be', 'move', 'say', 'persist', 'say', 'call', 'see', 'fall', 'accord', 'use', 'lead', 'fall', 'say', 'say', 'see', 'stand', 'come', 'say', 'bother', 'trigger', 'disrupt', 'shift', 'stay', 'drive', 'fuel', 'push', 'put', 'fix', 'be', 'contribute', 'move', 'say', 'need', 'take', 'petere', 'add', 'fall', 'account', 'have', 'remain', 'predict', 'start', 'moderate', 'give', 'seem', 'take', 'think', 'say', 'come', 'say', 'fall', 'show', 'point', 'slide', 'weigh', 'drop', 'lose', 'expand', 'say', 'poll', 'come', 'show', 'increase', 'raise', 'put', 'cut', 'appear', 'ease', 'experience', 'say', 'invest', 'follow', 'move', 'forecast', 'cut', 'accord', 'add', 'contend', 'plunge', 'issue', 'fall', 'miss', 'give', 'attain', 'raise', 'lead', 'believe', 'say', 'raise', 'slate', 'post', 'dive', 'put', 'lead', 'drop', 'miss', 'shed', 'trade', 'report', 'anticipate', 'buck', 'plummet', 'put', 'decline', 'fall', 'issue', 'overshadow', 'expect', 'intensify', 'follow', 'trade', 'dampen', 'list', 'fall', 'ImbertA', 'spell', 'continue', 'prove', 'say', 'slow', 'persist', 'write', 'want', 'see', 'start', 'come', 'want', 'see', 'increase', 'head', 'go', 'continue', 'raise', 'set', 'release', 'hope', 'show', 'come', 'expect', 'open', 'sell', 'signal', 'slow', 'pull', 'pull', 'lose', 'break', 'follow', 'hit', 'slow', 'push', 'rise', 'show', 'cause', 'hold', 'recede', 'slow', 'say', 'weigh', 'open', 'expand', 'poll', 'expect', 'start', 'rise', 'report', 'produce', 'increase', 'annualize', 'adjust', 'accord', 'survey', 'look', 'follow', 'increase', 'fix', 'help', 'keep', 'subtract', 'subtract', 'contribute', 'be', 'rise', 'annualize', 'exclude', 'rise', 'tend', 'focus', 'call', 'increase', 'compare', 'slump', 'follow', 'tie', 'move', 'report', 'expect', 'say', 'back', 'force', 'come', 'start', 'cut', 'set', 'charge', 'target', 'hike', 'have', 'adjust', 'start', 'ease', 'remain', 'express', 'begin', 'cut', 'shift', 'point', 'accord', 'decelerate', 'follow', 'say', 'fall', 'put', 'expect', 'ease', 'slow', 'look', 'keep', 'begin', 'spike', 'rise', 'eat', 'decelerate', 'adjust', 'rise', 'shift', 'spend', 'decline', 'last', 'classify', 'increase', 'help', 'underpin', 'report', 'total', 'surge', 'do', 'take', 'post', 'top', 'come', 'expect', 'report', 'compare', 'survey', 'know', 'say', 'rise', 'boost', 'exclude', 'cover', 'tie', 'climb', 'generate', 'say', 'expect', 'appear', 'disappoint', 'expect', 'raise', 'slip', 'strike', 'leave', 'revise', 'suspect', 'disappoint', 'say', 'post', 'expect', 'release', 'build', 'do', 'fix', 'top', 'come', 'call', 'help', 'strike', 'continue', 'say', 'look', 'remain', 'include', 'navigate', 'begin', 'raise', 'see', 'squeeze', 'force', 'pay', 'shift', 'yield', 'squeeze', 'mount', 'rise', 'expect', 'outperform', 'jump', 'outperform', 'report', 'develop', 'check', 'say', 'rule', 'include', 'rule', 'need', 'keep', 'want', 'work', 'see', 'find', 'say', 'ask', 'impose', 'adjust', 'think', 'say', 'stress', 'create', 'want', 'make', 'drive', 'have', 'add', 'leave', 'arrive', 'connect', 'continue', 'voice', 'subsidize', 'export', 'discount', 'say', 'harm', 'share', 'include', 'flood', 'export', 'develop', 'use', 'subsidize', 'support', 'lose', 'feel', 'say', 'say', 'explore', 'impose', 'conduct', 'subsidize', 'risk', 'undermine', 'implement', 'give', 'speak', 'say', 'say', 'accord', 'build', 'impose', 'consider', 'cut', 'say', 'follow', 'hike', 'call', 'curtail', 'say', 'like', 'see', 'reduce', 'say', 'launch', 'pose', 'give', 'connect', 'collect', 'come', 'grow', 'pose', 'pass', 'call', 'divest', 'face', 'ask', 'think', 'allow', 'say', 'want', 'get', 'think', 'concern', 'force', 'say', 'propose', 'clamp', 'see', 'say', 'impose', 'find', 'aid', 'make', 'support', 'say', 'have', 'say', 'do', 'involve', 'aid', 'have', 'sanction', 'fall', 'continue', 'increase', 'lower', 'cut', 'drop', 'slide', 'shed', 'end', 'send', 'reduce', 'cut', 'come', 'jump', 'surge', 'see', 'see', 'continue', 'say', 'think', 'continue', 'come', 'bet', 'come', 'start', 'cut', 'keep', 'grow', 'gain', 'relate', 'manage', 'remain', 'call', 'come', 'say', 'remain', 'point', 'come', 'release', 'show', 'go', 'show', 'base', 'start', 'continue', 'stand', 'slide', 'publish', 'relate', 'slide', 'finalize', 'expect', 'rise', 'propose', 'lose', 'drop', 'tumble', 'top', 'continue', 'increase', 'revise', 'report', 'edge', 'expect', 'move', 'include', 'hold', 'hold', 'rise', 'come', 'power', 'lead', 'follow', 'contribute', 'add', 'bring', 'say', 'show', 'broaden', 'surge', 'tie', 'fall', 'keep', 'grow', 'decline', 'use', 'calculate', 'post', 'absorb', 'tilt', 'fall', 'increase', 'rise', 'keep', 'weigh', 'tumble', 'keep', 'expect', 'rise', 'follow', 'add', 'look', 'guide', 'prove', 'decelerate', 'have', 'run', 'point', 'come', 'include', 'indicate', 'prefer', 'take', 'schedule', 'release', 'edge', 'misstate', 'accelerate', 'expect', 'push', 'dash', 'cut', 'rise', 'put', 'report', 'survey', 'look', 'exclude', 'accelerate', 'rise', 'compare', 'slump', 'spike', 'drive', 'rise', 'climb', 'make', 'relate', 'decelerate', 'cool', 'allow', 'increase', 'be', 'climb', 'push', 'fall', 'decline', 'increase', 'use', 'fall', 'rise', '0.6%.increase', 'increase', 'accord', 'come', 'express', 'call', 'cut', 'say', 'see', 'confirm', 'expect', 'expect', 'start', 'cut', 'expect', 'shift', 'follow', 'push', 'accord', 'point', 'go', 'result', 'say', 'expect', 'ease', 'show', 'exclude', 'increase', 'mark', 'mean', 'stall', 'call', 'say', 'cool', 'be', 'mean', 'begin', 'intrude', 'release', 'provide', 'stand', 'express', 'lower', 'tell', 'expect', 'come', 'say', 'cooperate', 'try', 'make', 'compute', 'build', 'base', 'say', 'become', 'base', 'play', 'employ', 'compete', 'grow', 'rent', 'base', 'derive', 'grow', 'represent', 'contain', 'hold', 'control', 'accord', 'introduce', 'port', 'optimize', 'tell', 'pick', 'announce', 'do', 'start', 'sell', 'use', 'back', 'base', 'make', 'seek', 'reduce', 'file', 'go', 'point', 'give', 'use', 'use', 'base', 'run', 'move', 'base', 'name', 'become', 'say', 'adopt', 'say', 'draw', 'lead', 'contain', 'deliver', 'base', 'write', 'offer', 'find', 'speed', 'offer', 'base', 'base', 'say', 'think', 'complete', 'say', 'misstate', 'offer', 'focus', 'try', 'turn', 'stream', 'plan', 'say', 'hand', 'feel', 'put', 'spend', 'execute', 'say', 'roll', 'boost', 'go', 'note', 'do', 'affect', 'tell', 'choose', 'say', 'establish', 'return', 'hold', 'note', 'change', 'run', 'speak', 'face', 'take', 'include', 'hold', 'return', 'learn', 'say', 'say', 'have', 'want', 'ensure', 'have', 'have', 'say', 'dispute', 'make', 'react', 'perform', 'say', 'react', 'rally', 'make', 'include', 'obtain', 'make', 'launch', 'battle', 'seek', 'lambaste', 'fail', 'claim', 'misdirect', 'tell', 'try', 'wage', 'follow', 'improve', 'hope', 'keep', 'say', 'hope', 'do', 'assure', 'go', 'do', 'watch', 'wait', 'do', 'hear', 'side', 'lose', 'nominate', 'lose', 'say', 'support', 'add', 'help', 'deliver', 'fail', 'win', 'say', 'vote', 'do', 'try', 'right', 'return', 'undo', 'institute', 'reign', 'pull', 'produce', 'announce', 'invest', 'bundle', 'try', 'do', 'serve', 'say', 'add', 'expect', 'say', 'have', 'have', 'decline', 'disclose', 'include', 'prepare', 'sanction', 'assist', 'say', 'stand', 'act', 'see', 'say', 'involve', 'aid', 'have', 'sanction', 'issue', 'vest', 'sanction', 'aid', 'say', 'use', 'entitle', 'have', 'say', 'note', 'see', 'trigger', 'meet', 'include', 'arrive', 'travel', 'schedule', 'depart', 'task', 'deliver', 'place', 'seek', 'stabilize', 'remain', 'raise', 'allege', 'outpace', 'find', 'choose', 'dump', 'price', 'deny', 'say', 'understand', 'rule', 'fail', 'address', 'characterize', 'put', 'maintain', 'threaten', 'raise', 'meet', 'thaw', 'reestablish', 'try', 'do', 'say', 'feel', 'say', 'edge', 'attempt', 'snap', 'rise', 'add', 'rally', 'expect', 'post', 'send', 'advance', 'beat', 'top', 'slip', 'give', 'list', 'report', 'exceed', 'accord', 'continue', 'weigh', 'continue', 'mark', 'go', 'concern', 'escalate', 'refer', 'continue', 'rise', 'close', 'snap', 'erase', 'consider', 'approach', 'monitor', 'set', 'speak', 'take', 'block', 'include', 'plan', 'fall', 'think', 'say', 'release', 'stand', 'give', 'say', 'block', 'worry', 'go', 'feature', 'walk', 'acquire', 'say', 'raise', 'lay', 'plunge', 'say', 'show', 'trust', 'do', 'become', 'base', 'eat', 'come', 'attempt', 'block', 'expand', 'make', 'slow', 'make', 'seek', 'gain', 'burgeon', 'add', 'count', 'invest', 'zero', 'launch', 'think', 'know', 'do', 'say', 'urge', 'face', 'sue', 'accuse', 'operate', 'stifle', 'raise', 'increase', 'sprawl', 'account', 'sell', 'include', 'generate', 'build', 'oil', 'enable', 'deliver', 'report', 'seek', 'take', 'carry', 'balloon', 'cost', 'accord', 'ask', 'tackle', 'say', 'have', 'charge', 'examine', 'return', 'make', '\"\"at', 'find', 'get', 'add', 'say', 'convince', 'have', 'release', 'choose', 'face', 'know', 'change', 'affect', 'convince', 'say', 'think', 'read', 'hit', 'say', 'have', 'reiterate', 'enter', 'mention', 'stand', 'gain', 'become', 'generate', 'sound', 'fuel', 'help', 'propel', 'have', 'learn', 'work', 'include', 'say', 'explore', 'boost', 'say', 'touch', 'assist', 'replace', 'force', 'retrain', 'anticipate', 'have', 'augment', 'impact', 'say', 'reduce', 'create', 'continue', 'improve', 'include', 'look', 'affect', 'consider', 'follow', 'appear', 'need', 'seem', 'price', 'decline', 'believe', 'go', 'accompany', 'remember', 'reduce', 'remember', 'tend', 'widen', 'accomplish', 'improve', 'make', 'puncture', 'bring', 'maintain', 'base', 'use', 'advance', 'perceive', 'remind', 'seem', 'recede', 'empower', 'see', 'present', 'leverage', 'exist', 'offer', 'believe', 'appreciate', 'curate', 'prioritize', 'entail', 'tend', 'focus', 'do', 'look', 'record', 'tell', 'expect', 'add', 'believe', 'acquire', 'seize', 'reelect', 'show', 'hand', 'agitate', 'expect', 'cap', 'affirm', 'bring', 're', '-', 'invigorate', 'want', 'oust', 'cite', 'fail', 'misdirect', 'lose', 'say', 'support', 'add', 'help', 'deliver', 'lose', 'characterize', 'say', 'vote', 'fail', 'win', 'want', 'thank', 'distract', 'focus', 'say', 'deploy', 'call', 'found', 'disappoint', 'appreciate', 'have', 'have', 'refocus', 'say', 'spend', 'estimate', 'fight', 'work', 'decide', 'back', 'achieve', 'keep', 'say', 'benefit', 'need', 'advance', 'respect', 'fail', 'convince', 'have', 'fix', 'pick', 'compel', 'nominate', 'dislike', 'call', 'orchestrate', 'control', 'own', 'begin', 'gain', 'estimate', 'spend', 'compare', 'control', 'move', 'face', 'shed', 'raise', 'go', 'spend', 'win', 'lose', 'try', 'catch', 'search', 'botch', 'pick', 'oust', 'use', '\"thank', 'implement', 'build', 'say', 'report', 'distract', 'focus', 'thank', 'continue', 'agree', 'equip', 'take', 'note', 'side', 'assert', 'pair', 'give', 'launch', 'develop', 'communicate', 'execute', 'appear', 'target', 'acknowledge', 'rally', 'make', 'include', 'obtain', 'call', 'mean', 'distract', 'jump', 'own', 'unveil', 'forgive', 'block', 'want', 'survive', 'make', 'target', 'include', 'face', 'reach', 'cancel', 'face', 'fall', 'praise', 'weigh', 'reflect', 'allow', 'leave', 'go', 'say', 'criticize', 'exceed', 'make', 'fall', 'reduce', 'owe', 'borrow', 'accord', 'estimate', 'enact', 'propose', 'get', 'forgive', 'benefit', 'earn', 'make', 'have', 'accrue', 'enter', 'cancel', 'need', 'enrol', 'drive', 'qualify', 'have', 'apply', 'keep', 'access', 'say', 'erase', 'lessen', 'allow', 'pay', 'expect', 'forgive', 'include', 'define', 'include', 'burden', 'say', 'attempt', 'cancel', 'turn', 'issue', 'propose', 'follow', 'hope', 'begin', 'forgive', 'tick', 'weigh', 'tie', 'slip', 'rise', 'lift', 'rally', 'expect', 'outweigh', 'fall', 'advance', 'beat', 'tumble', 'announce', 'fall', 'give', 'list', 'report', 'exceed', 'accord', 'continue', 'weigh', 'continue', 'mark', 'go', 'follow', 'escalate', 'refer', 'hover', 'pop', 'snap', 'erase', 'consider', 'approach', 'finish', 'monitor', 'set', 'speak', 'watch', 'expect', 'discount', 'see', 'say', 'discount', 'include', 'improve', 'fall', 'report', 'disrupt', 'decline', 'break', 'report', 'produce', 'deliver', 'produce', 'deliver', 'report', 'report', 'report', 'define', 'fall', 'accord', 'compile', 'expect', 'end', 'range', 'update', 'range', 'follow', 'expect', 'come', 'send', 'compile', 'base', 'select', 'view', 'say', 'expect', 'face', 'disrupt', 'suspend', 'set', 'deprive', 'cause', 'say', 'update', 'face', 'include', 'make', 'reduce', 'slash', 'mix', 'dub', 'begin', 'sell', 'appear', 'drive', 'mandate', 'demo', 'hand', 'market', 'make', 'require', 'steer', 'comprise', 'shrink', 'accord', 'cite', 'attribute', 'continue', 'bet', 'stick', 'own', 'drop', 'schedule', 'discuss', 'go', 'retreat', 'rise', 'overshadow', 'escalate', 'slip', 'swinge', 'trade', 'tumble', 'hit', 'lose', 'relinquish', 'see', 'appear', 'pour', 'see', 'follow', 'rise', 'touch', 'pop', 'release', 'show', 'increase', 'provide', 'remain', 'poll', 'weigh', 'mark', 'intercept', 'remain', 'fall', 'give', 'rise', 'lead', 'come', 'provide', 'cause', 'decline', 'say', 'give', 'emanate', 'heighten', 'lead', 'drop', 'acquire', 'pop', 'beat', 'add', 'linger', 'weigh', 'see', 'surprise', 'add', 'continue', 'fuel', 'add', 'account', 'combine', 'add', 'accord', 'hire', 'grow', 'accord', 'include', 'fall', 'close', 'help', 'grow', 'put', 'note', 'change', 'come', 'be', 'rebalance', 'get', 'get', 'have', 'say', 'increase', 'expect', 'provide', 'hold', 'expect', 'rise', 'accord', 'climb', 'indicate', 'keep', 'elevate', 'exclude', 'rise', 'meet', 'exclude', 'come', 'report', 'rise', 'expect', 'raise', 'lower', 'push', 'see', 'relate', 'jump', 'decrease', 'flip', 'cost', 'fall', 'climb', 'rise', 'fall', 'contrast', 'show', 'show', 'tie', 'decline', 'fall', 'revise', 'run', 'increase', 'accord', 'watch', 'contemplate', 'jolt', 'anticipate', 'show', 'run', 'price', 'start', 'accord', 'declare', 'trap', 'fail', 'pay', 'begin', 'require', 'deliver', 'refuse', 'leave', 'run', 'need', 'get', 'continue', 'succumb', 'liquidate', 'accelerate', 'r', 'lead', 'fail', 'pay', 'tell', 'include', 'fail', 'pay', 'accord', 'analyze', 'include', 'leave', 'have', 'fall', 'rise', 'help', 'build', 'face', 'come', 'improve', 'indicate', 'struggle', 'manage', 'plan', 'tell', 'have', 'care', 'signal', 'have', 'have', 'decide', 'pay', 'say', 'indicate', 'have', 'pay', 'do', 'change', 'say', 'base', 'collect', 'use', 'determine', 'use', 'decide', 'gauge', 'update', 'use', 'say', 'consider', 'assess', 'represent', 'prove', 'say', 'pay', 'spike', 'dip', 'jump', 'accord', 'increase', 'say', 'fail', 'reach', 'say', 'announce', 'tell', 'aim', 'achieve', 'say', 'expect', 'meet', 'conclude', 'struggle', 'sell', 'make', 'accord', 'fall', 'end', 'end', 'report', 'fall', 'try', 'return', 'expect', 'make', 'increase', 'focus', 'sustain', 'grow', 'tell', 'have', 'generate', 'complain', 'happen', 'have', 'want', 'do', 'say', 'say', 'boost', 'change', 'need', 'make', 'say', 'require', 'pay', 'avoid', 'trigger', 'say', 'call', 'say', 'align', 'have', 'see', 'report', 'say', 'use', 'know', 'deem', 'say', 'show', 'approximate', 'use', 'show', 'take', 'pay', 'tick', 'jump', 'end', 'accord', 'add', 'face', 'capitalize', 'execute', 'remain', 'report', 'reinforce', 'say', 'classify', 'come', 'say', 'pay', 'lead', 'tighten', 'stop', 'ship', 'arise', 'confirm', 'make', 'insist', 'have', 'report', 'manage', 'continue', 'meet', 'write', 'accord', 'show', 'make', 'drop', 'say', 'pay', 'fluctuate', 'tell', 'believe', 'share', 'keep', 'secure', 'amend', 'use', 'work', 'say', 'classify', 'face', 'slow', 'manage', 'mount', 'rise', 'accord', 'have', 'improve', 'indicate', 'have', 'cover', 'accord', 'report', 'look', 'restructure', 'head', 'amend', 'agree', 'give', 'prevent', 'depend', 'keep', 'fulfil', 'tighten', 'put', 'say', 'give', 'provide', 'struggle', 'keep', 'pay', 'grow', 'increase', '\"this', 'indicate', 'affect', 'say', 'tell', 'help', 'keep', 'expect', 'get', 'say', 'say', 'work', 'move', 'give', 'take', 'resign', 'say', 'work', 'recover', 'include', 'cut', 'tell', 'delist', 'sustain', 'announce', 'report', 'classify', 'return', 'see', 'normalize', 'have', 'cover', 'end', 'show', 'accord', 'face', 'weigh', 'look', 'shore', 'secure', 'say', 'pay', 'stand', 'grow', 'rise', 'show', 'remain', 'fall', 'tell', 'reflect', 'show', 'provide', 'classify', 'sell', 'mark', 'dent', 'weigh', 'slide', 'tumble', 'pull', 'decline', 'post', 'say', 'make', 'expect', 'warn', 'weigh', 'slip', 'report', 'drop', 'post', 'continue', 'prepare', 'couple', 'add', 'put', 'get', 'head', 'see', 'be', 'see', 'sell', 'say', 'come', 'tell', 'lead', 'adjust', 'get', 'head', 'say', 'grow', 'come', 'accord', 'run', 'tick', 'reflect', 'say', 'take', 'evaluate', 'keep', 'cut', 'speak', 'expect', 'start', 'say', 'ease', 'watch', 'speak', 'say', 'represent', 'say', 'expect', 'lower', 'have', 'move', 'add', 'give', 'have', 'let', 'guide', 'come', 'set', 'vote', 'hold', 'include', 'need', 'cut', 'expect', 'start', 'ease', 'have', 'recalibrate', 'hold', 'hold', 'give', 'assess', 'move', 'show', 'exclude', 'show', 'come', 'expect', 'say', 'change', 'continue', 'rebalance', 'move', 'speak', 'make', 'tell', 'think', 'turn', 'say', 'note', 'be', 'say', 'add', 'anticipate', 'reiterate', 'make', 'meet', 'note', 'cause', 'fall', 'move', 'stabilize', 'reprice', 'cast', 'imply', 'move', 'accord', 'spend', 'discuss', 'heat', 'note', 'steer', 'say', 'get', 'do', 'reflect', 'talk', 'relate', 'involve', 'take', 'seek', 'say', 'express', 'move', 'expect', 'cut', 'vote', 'hold', 'show', 'ease', 'do', 'target', 'vote', 'keep', 'cut', 'gain', 'note', 'express', 'increase', 'move', 'say', 'say', 'rise', 'remain', 'push', 'cite', 'add', 'cite', 'enhance', 'deteriorate', 'discuss', 'expect', 'say', 'cause', 'add', 'tell', 'be', 'disagree', 'note', 'base', 'discount', 'state', 'consider', 'come', 'receive', 'focus', 'show', 'represent', 'give', 'start', 'follow', 'recalibrate', 'imply', 'cut', 'come', 'come', 'release', 'indicate', 'judge', 'move', 'evolve', 'expect', 'say', 'note', 'continue', 'expect', 'discuss', 'end', 'shave', 'back', 'allow', 'mature', 'roll', 'reinveste', 'be', 'make', 'know', 'happen', 'say', 'cut', 'start', 'expect', 'begin', 'note', 'believe', 'take', 'say', 'get', 'think', 'go', 'come', 'think', 'go', 'tell', 'fall', 'be', 'lead', 'prove', 'complicate', 'say', 'be', 'create', 'remain', 'start', 'get', 'go', 'think', 'know', 'go', 'happen', 'say', 'say', 'disagree', 'think', 'contain', 'think', 'come', 'say', 'express', 'say', 'price', 'say', 'make', '\"if', 'think', 'go', 'wake', 'go', 'say', 'have', 'make', 'shutter', 'follow', 'own', 'turn', 'fear', 'hold', 'cut', 'add', 'lose', 'resume', 'gain', 'lose', 'give', 'dip', 'give', 'jump', 'coincide', 'top', 'raise', 'help', 'reaccelerate', 'comment', 'wonder', 'cut', 'remain', 'add', 'talk', 'rise', 'hover', 'touch', 'take', 'see', 'say', 'drive', 'imply', 'cut', 'confirm', 'lower', 'remain', 'give', 'trade', 'add', 'find', 'disconcert', 'say', 'think', 'end', 'digest', 'lose', 'dip', 'maintain', 'be', 'need', 'move', 'come', 'call', 'total', 'rise', 'boost', 'keep', 'maintain', 'tumble', 'show', 'point', 'slide', 'weigh', 'drop', 'lose', 'expand', 'say', 'poll', 'come', 'show', 'increase', 'raise', 'put', 'cut', 'take', 'suggest', 'slow', 'rise', 'add', 'move', 'appear', 'ease', 'experience', 'say', 'invest', 'follow', 'move', 'suggest', 'cut', 'accord', 'add', 'contend', 'plunge', 'issue', 'fall', 'miss', 'give', 'attain', 'raise', 'lead', 'believe', 'say', 'raise', 'slate', 'post', 'misstate', 'slide', 'mark', 'show', 'regard', 'surge', 'change', 'expect', 'put', 'heat', 'say', 'say', 'look', 'become', 'say', 'think', 'move', 'see', 'continue', 'reinforce', 'show', 'box', 'add', 'grow', 'expect', 'post', 'fall', 'accord', 'think', 'go', 'hold', 'say', 'note', 'underscore', 'see', 'pull', 'think', 'be', 'go', 'say', 'forecast', 'moderate', 'mark', 'think', 'go', 'turn', 'say', 'take', 'do', 'see', 'persist', 'believe', 'be', 'recommend', 'take', 'say', 'stand', 'say', 'snatch', 'need', 'find', 'exhaust', 'say', 'consider', 'say', 'wait', 'trickle', 'include', 'react', 'take', 'see', 'rise', 'turn', 'accord', 'estimate', 'make', 'base', 'receive', 'say', 'say', 'use', 'trade', 'read', 'track', 'experience', 'end', 'accord', 'epfr.dure', 'see', 'yank', 'underscore', 'tumble', 'pace', 'head', 'sit', 'fall', 'remain', 'end', 'poise', 'finish', 'head', 'perform', 'struggle', 'add', 'help', 'lead', 'rise', 'have', 'start', 'claw', 'dive', 'put', 'lead', 'drop', 'miss', 'shed', 'trade', 'report', 'anticipate', 'buck', 'plummet', 'put', 'decline', 'fall', 'issue', 'overshadow', 'expect', 'intensify', 'follow', 'trade', 'dampen', 'list', 'fall', 'ImbertA', 'spell', 'continue', 'prove', 'say', 'slow', 'persist', 'write', 'want', 'see', 'start', 'come', 'want', 'see', 'increase', 'head', 'go', 'continue', 'raise', 'set', 'release', 'hope', 'show', 'come', 'expect', 'open', 'sell', 'signal', 'slow', 'pull', 'pull', 'lose', 'break', 'follow', 'hit', 'slow', 'push', 'rise', 'show', 'cause', 'hold', 'recede', 'slow', 'say', 'weigh', 'open', 'expand', 'poll', 'pull', 'struggle', 'regain', 'trade', 'decline', 'fall', 'drop', 'slate', 'survey', 'expect', 'increase', 'keep', 'search', 'start', 'cut', 'decrease', 'accord', 'tread', 'lower', 'say', 'expect', 'read', 'end', 'trigger', 'slip', 'trade', 'rise', 'climb', 'manage', 'rebound', 'gain', 'add', 'add', 'lift', 'buy', 'jump', 'rally', 'gain', 'hit', 'pop', 'notch', 'end', 'recoup', 'follow', 'come', 'provide', 'reflect', 'be', 'go', 'say', 'refer', 'reach', 'say', 'be', 'come', 'expect', 'release', 'spark', 'show', 'remain', 'pop', 'follow', 'rise', 'hold', 'continue', 'fall', 'disappoint', 'dip', 'kick', 'weigh', 'slow', 'lose', 'shed', 'dip', 'remain', 'cut', 'meet', 'say', 'remain', 'mean', 'need', 'cut', 'tell', 'come', 'rise', 'follow', 'react', 'exclude', 'release', 'show', 'rise', 'watch', 'rise', 'say', 'come', 'win', 'jump', 'add', 'pop', 'wrap', 'win', 'bring', 'pull', 'overbought', 'say', 'see', 'start', 'hear', 'come', 'suggest', 'need', 'start', 'see', 'come', 'feel', 'add', 'have', 'misstate']\n"
     ]
    }
   ],
   "source": [
    "def parseNLP(combinedText):\n",
    "    # ebb: add that utf8 encoding argument to the open() function to ensure that reading works on everyone's systems\n",
    "# this all succeeds if you see the text of your files printed in the console.\n",
    "    tokens = nlp(combinedText)\n",
    "    WordLemmas = []\n",
    "    for token in tokens:\n",
    "        if token.pos_ == \"VERB\":\n",
    "            lemma = token.lemma_\n",
    "            WordLemmas.append(lemma)\n",
    "    print(WordLemmas)\n",
    "\n",
    "combinedText = \"\"\n",
    "for file in os.listdir(CollPath):\n",
    "    if file.endswith(\".txt\"):\n",
    "        filepath = f\"{CollPath}/{file}\"\n",
    "        # print(filepath)\n",
    "        with open(filepath, 'r', encoding='utf8') as f:\n",
    "            readFile = f.read()\n",
    "            # print(readFile)\n",
    "            stringFile = str(readFile)\n",
    "            lengthFile = len(readFile)\n",
    "            # print(lengthFile)\n",
    "            combinedText += stringFile + \"\\n\"\n",
    "    # print(combinedText)\n",
    "# print(combinedText)\n",
    "parseNLP(combinedText)\n",
    "\n",
    "# start from \"Seaborn library\" here:\n",
    "# https://github.com/newtfire/textAnalysis-Hub/blob/main/Class-Examples/Python/projectExamples/3-projectExplore-dataCounts.ipynb\n",
    "#  Here’s how to save SVG output from Seaborn: \n",
    "# https://pieriantraining.com/python-tutorial-how-to-export-and-save-a-seaborn-plot/"
   ]
  },
  {
   "cell_type": "code",
   "execution_count": null,
   "id": "acc9e5d5-42b2-40bd-b006-48307b75aca6",
   "metadata": {},
   "outputs": [],
   "source": []
  }
 ],
 "metadata": {
  "kernelspec": {
   "display_name": "Python 3 (ipykernel)",
   "language": "python",
   "name": "python3"
  },
  "language_info": {
   "codemirror_mode": {
    "name": "ipython",
    "version": 3
   },
   "file_extension": ".py",
   "mimetype": "text/x-python",
   "name": "python",
   "nbconvert_exporter": "python",
   "pygments_lexer": "ipython3",
   "version": "3.11.1"
  }
 },
 "nbformat": 4,
 "nbformat_minor": 5
}
