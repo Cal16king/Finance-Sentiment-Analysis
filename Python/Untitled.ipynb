{
 "cells": [
  {
   "cell_type": "markdown",
   "id": "f03e8b88-4bef-4c5c-9684-cc3417524415",
   "metadata": {},
   "source": [
    "## scraped data to NLP by article\n",
    "\n",
    "This notebook is designed to read data from XML that we transformed from its original output JSON from the generalized sentiment analysis reading. The research question is to learn more about the language associated with the \"good,\" \"bad,\" and \"N\" readouts from the initial sentiment analysis pass. We can investigate nouns, verbs, adjectives, adverbs, or distinctly identify phrases associated with sentiment in the scraped news. \n",
    "\n",
    "The goal is to read the scraped data by dates/articles. We can expose which words are most highly associated with particular dates, as well as with sentiment readings. "
   ]
  }
 ],
 "metadata": {
  "kernelspec": {
   "display_name": "Python 3 (ipykernel)",
   "language": "python",
   "name": "python3"
  },
  "language_info": {
   "codemirror_mode": {
    "name": "ipython",
    "version": 3
   },
   "file_extension": ".py",
   "mimetype": "text/x-python",
   "name": "python",
   "nbconvert_exporter": "python",
   "pygments_lexer": "ipython3",
   "version": "3.11.1"
  }
 },
 "nbformat": 4,
 "nbformat_minor": 5
}
