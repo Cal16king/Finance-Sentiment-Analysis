{
 "cells": [
  {
   "cell_type": "markdown",
   "id": "f03e8b88-4bef-4c5c-9684-cc3417524415",
   "metadata": {},
   "source": [
    "## Analyzing scraped text by article\n",
    "\n",
    "This notebook is designed to read data from XML that we transformed from its original output JSON from the generalized sentiment analysis reading. The research question is to learn more about the language associated with the \"good,\" \"bad,\" and \"N\" readouts from the initial sentiment analysis pass. We can investigate nouns, verbs, adjectives, adverbs, or distinctly identify phrases associated with sentiment in the scraped news. \n",
    "\n",
    "The goal is to read the scraped data by dates/articles. We can expose which words are most highly associated with particular dates, as well as with sentiment readings. "
   ]
  },
  {
   "cell_type": "markdown",
   "id": "14b8b0b0-f0cf-4ea3-a230-59795ce7b97b",
   "metadata": {},
   "source": [
    "First, some imports."
   ]
  },
  {
   "cell_type": "code",
   "execution_count": null,
   "id": "5749e56c-d4df-4b50-a21a-a57e9341630f",
   "metadata": {},
   "outputs": [],
   "source": [
    "!pip install saxonche\n",
    "!pip install pathlib\n",
    "import os\n",
    "import pathlib\n",
    "from pathlib import Path\n",
    "import spacy\n",
    "import re as regex\n",
    "# re lets us work with regular expressions in Python\n",
    "from saxonche import PySaxonProcessor\n",
    "from os import getcwd\n",
    "# this lets us retrieve the current working directory"
   ]
  },
  {
   "cell_type": "code",
   "execution_count": null,
   "id": "14066ce2-1691-484b-8781-09fd11404518",
   "metadata": {},
   "outputs": [],
   "source": [
    "nlp = spacy.cli.download(\"en_core_web_lg\")\n",
    "# ONLY NEED ABOVE LINE ONCE. REMEMBER: COMMENT OUT THE ABOVE LINE THE NEXT TIME YOU RUN THIS.\n",
    "nlp = spacy.load('en_core_web_lg')"
   ]
  },
  {
   "cell_type": "code",
   "execution_count": null,
   "id": "9dc1c2f9-23eb-46e6-906e-f20712fead49",
   "metadata": {},
   "outputs": [],
   "source": [
    "# DEFINE SOME FILE PATHS FOR INPUT, AND (ONCE WE'RE READY) OUTPUT\n",
    "InputPath = 'results.xml'\n",
    "# OutputPath = 'testOutput' "
   ]
  },
  {
   "cell_type": "code",
   "execution_count": null,
   "id": "820fd8e1-a1d1-4496-90a6-4eeb46a1bfa2",
   "metadata": {},
   "outputs": [],
   "source": [
    "def xqueryOverFiles(InputPath):\n",
    "    # This time, let's try XQuery over a collection of files:\n",
    "    with PySaxonProcessor(license=False) as proc:\n",
    "        print(proc.version)\n",
    "        xq = proc.new_xquery_processor()\n",
    "        # This only works on Mac / Linux: xq.set_query_base_uri('file://'+getcwd()+'/')\n",
    "        xq.set_query_base_uri(Path('.').absolute().as_uri() + '/')\n",
    "        xq.set_query_content('''\n",
    "let $results := doc('results.xml')\n",
    "let $textBlobs := $results//key/@name ! string()\n",
    "return $textBlobs\n",
    "\n",
    "   (: ebb: I'm writing in an XQuery comment, and pointing out you can define and return any variable you want in the XQuery zone. :)\n",
    "   (: ebb: Try changing this one to return $speakers instead of the $count variable. :)\n",
    "   (: ebb: We're writing an query-based syntax called FLWOR (pronounced \"flower\") and every FLWOR requires a return statement at the end. :)\n",
    "    \n",
    "''')\n",
    "        r = xq.run_query_to_value()\n",
    "        print(r)  \n",
    "                               \n",
    "xqueryOverFiles(InputPath)"
   ]
  }
 ],
 "metadata": {
  "kernelspec": {
   "display_name": "Python 3 (ipykernel)",
   "language": "python",
   "name": "python3"
  },
  "language_info": {
   "codemirror_mode": {
    "name": "ipython",
    "version": 3
   },
   "file_extension": ".py",
   "mimetype": "text/x-python",
   "name": "python",
   "nbconvert_exporter": "python",
   "pygments_lexer": "ipython3",
   "version": "3.11.1"
  }
 },
 "nbformat": 4,
 "nbformat_minor": 5
}
